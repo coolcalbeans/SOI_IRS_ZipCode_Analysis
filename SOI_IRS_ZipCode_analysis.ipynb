{
 "cells": [
  {
   "cell_type": "code",
   "execution_count": 7,
   "metadata": {
    "collapsed": true
   },
   "outputs": [],
   "source": [
    "%matplotlib inline\n",
    "from __future__ import division\n",
    "import pandas as pd\n",
    "import numpy as np\n",
    "import seaborn as sn\n",
    "import statsmodels.formula.api as smf\n",
    "import matplotlib\n",
    "import seaborn as sns\n",
    "matplotlib.rcParams['figure.figsize'] = (20.0, 10.0)"
   ]
  },
  {
   "cell_type": "code",
   "execution_count": 8,
   "metadata": {},
   "outputs": [
    {
     "name": "stdout",
     "output_type": "stream",
     "text": [
      "(166686, 127)\n",
      "(166074, 127)\n"
     ]
    },
    {
     "data": {
      "text/html": [
       "<div>\n",
       "<style>\n",
       "    .dataframe thead tr:only-child th {\n",
       "        text-align: right;\n",
       "    }\n",
       "\n",
       "    .dataframe thead th {\n",
       "        text-align: left;\n",
       "    }\n",
       "\n",
       "    .dataframe tbody tr th {\n",
       "        vertical-align: top;\n",
       "    }\n",
       "</style>\n",
       "<table border=\"1\" class=\"dataframe\">\n",
       "  <thead>\n",
       "    <tr style=\"text-align: right;\">\n",
       "      <th></th>\n",
       "      <th>STATEFIPS</th>\n",
       "      <th>STATE</th>\n",
       "      <th>zipcode</th>\n",
       "      <th>agi_stub</th>\n",
       "      <th>N1</th>\n",
       "      <th>mars1</th>\n",
       "      <th>MARS2</th>\n",
       "      <th>MARS4</th>\n",
       "      <th>PREP</th>\n",
       "      <th>N2</th>\n",
       "      <th>...</th>\n",
       "      <th>N10300</th>\n",
       "      <th>A10300</th>\n",
       "      <th>N85530</th>\n",
       "      <th>A85530</th>\n",
       "      <th>N85300</th>\n",
       "      <th>A85300</th>\n",
       "      <th>N11901</th>\n",
       "      <th>A11901</th>\n",
       "      <th>N11902</th>\n",
       "      <th>A11902</th>\n",
       "    </tr>\n",
       "  </thead>\n",
       "  <tbody>\n",
       "    <tr>\n",
       "      <th>6</th>\n",
       "      <td>1</td>\n",
       "      <td>AL</td>\n",
       "      <td>35004</td>\n",
       "      <td>1</td>\n",
       "      <td>1510.0</td>\n",
       "      <td>970.0</td>\n",
       "      <td>230.0</td>\n",
       "      <td>270.0</td>\n",
       "      <td>740.0</td>\n",
       "      <td>2130.0</td>\n",
       "      <td>...</td>\n",
       "      <td>740.0</td>\n",
       "      <td>645.0</td>\n",
       "      <td>0.0</td>\n",
       "      <td>0.0</td>\n",
       "      <td>0.0</td>\n",
       "      <td>0.0</td>\n",
       "      <td>130.0</td>\n",
       "      <td>112.0</td>\n",
       "      <td>1300.0</td>\n",
       "      <td>2660.0</td>\n",
       "    </tr>\n",
       "    <tr>\n",
       "      <th>7</th>\n",
       "      <td>1</td>\n",
       "      <td>AL</td>\n",
       "      <td>35004</td>\n",
       "      <td>2</td>\n",
       "      <td>1280.0</td>\n",
       "      <td>590.0</td>\n",
       "      <td>370.0</td>\n",
       "      <td>270.0</td>\n",
       "      <td>630.0</td>\n",
       "      <td>2450.0</td>\n",
       "      <td>...</td>\n",
       "      <td>1090.0</td>\n",
       "      <td>2879.0</td>\n",
       "      <td>0.0</td>\n",
       "      <td>0.0</td>\n",
       "      <td>0.0</td>\n",
       "      <td>0.0</td>\n",
       "      <td>180.0</td>\n",
       "      <td>255.0</td>\n",
       "      <td>1090.0</td>\n",
       "      <td>2827.0</td>\n",
       "    </tr>\n",
       "    <tr>\n",
       "      <th>8</th>\n",
       "      <td>1</td>\n",
       "      <td>AL</td>\n",
       "      <td>35004</td>\n",
       "      <td>3</td>\n",
       "      <td>920.0</td>\n",
       "      <td>280.0</td>\n",
       "      <td>510.0</td>\n",
       "      <td>110.0</td>\n",
       "      <td>470.0</td>\n",
       "      <td>2070.0</td>\n",
       "      <td>...</td>\n",
       "      <td>890.0</td>\n",
       "      <td>4651.0</td>\n",
       "      <td>0.0</td>\n",
       "      <td>0.0</td>\n",
       "      <td>0.0</td>\n",
       "      <td>0.0</td>\n",
       "      <td>190.0</td>\n",
       "      <td>357.0</td>\n",
       "      <td>720.0</td>\n",
       "      <td>1962.0</td>\n",
       "    </tr>\n",
       "    <tr>\n",
       "      <th>9</th>\n",
       "      <td>1</td>\n",
       "      <td>AL</td>\n",
       "      <td>35004</td>\n",
       "      <td>4</td>\n",
       "      <td>630.0</td>\n",
       "      <td>100.0</td>\n",
       "      <td>490.0</td>\n",
       "      <td>50.0</td>\n",
       "      <td>300.0</td>\n",
       "      <td>1650.0</td>\n",
       "      <td>...</td>\n",
       "      <td>630.0</td>\n",
       "      <td>5225.0</td>\n",
       "      <td>0.0</td>\n",
       "      <td>0.0</td>\n",
       "      <td>0.0</td>\n",
       "      <td>0.0</td>\n",
       "      <td>130.0</td>\n",
       "      <td>312.0</td>\n",
       "      <td>490.0</td>\n",
       "      <td>1454.0</td>\n",
       "    </tr>\n",
       "    <tr>\n",
       "      <th>10</th>\n",
       "      <td>1</td>\n",
       "      <td>AL</td>\n",
       "      <td>35004</td>\n",
       "      <td>5</td>\n",
       "      <td>590.0</td>\n",
       "      <td>40.0</td>\n",
       "      <td>530.0</td>\n",
       "      <td>0.0</td>\n",
       "      <td>300.0</td>\n",
       "      <td>1660.0</td>\n",
       "      <td>...</td>\n",
       "      <td>580.0</td>\n",
       "      <td>9419.0</td>\n",
       "      <td>0.0</td>\n",
       "      <td>0.0</td>\n",
       "      <td>0.0</td>\n",
       "      <td>0.0</td>\n",
       "      <td>200.0</td>\n",
       "      <td>625.0</td>\n",
       "      <td>380.0</td>\n",
       "      <td>1553.0</td>\n",
       "    </tr>\n",
       "  </tbody>\n",
       "</table>\n",
       "<p>5 rows × 127 columns</p>\n",
       "</div>"
      ],
      "text/plain": [
       "    STATEFIPS STATE  zipcode  agi_stub      N1  mars1  MARS2  MARS4   PREP  \\\n",
       "6           1    AL    35004         1  1510.0  970.0  230.0  270.0  740.0   \n",
       "7           1    AL    35004         2  1280.0  590.0  370.0  270.0  630.0   \n",
       "8           1    AL    35004         3   920.0  280.0  510.0  110.0  470.0   \n",
       "9           1    AL    35004         4   630.0  100.0  490.0   50.0  300.0   \n",
       "10          1    AL    35004         5   590.0   40.0  530.0    0.0  300.0   \n",
       "\n",
       "        N2   ...    N10300  A10300  N85530  A85530  N85300  A85300  N11901  \\\n",
       "6   2130.0   ...     740.0   645.0     0.0     0.0     0.0     0.0   130.0   \n",
       "7   2450.0   ...    1090.0  2879.0     0.0     0.0     0.0     0.0   180.0   \n",
       "8   2070.0   ...     890.0  4651.0     0.0     0.0     0.0     0.0   190.0   \n",
       "9   1650.0   ...     630.0  5225.0     0.0     0.0     0.0     0.0   130.0   \n",
       "10  1660.0   ...     580.0  9419.0     0.0     0.0     0.0     0.0   200.0   \n",
       "\n",
       "    A11901  N11902  A11902  \n",
       "6    112.0  1300.0  2660.0  \n",
       "7    255.0  1090.0  2827.0  \n",
       "8    357.0   720.0  1962.0  \n",
       "9    312.0   490.0  1454.0  \n",
       "10   625.0   380.0  1553.0  \n",
       "\n",
       "[5 rows x 127 columns]"
      ]
     },
     "execution_count": 8,
     "metadata": {},
     "output_type": "execute_result"
    }
   ],
   "source": [
    "df_data = pd.read_csv('./zipcode2014/14zpallagi.csv')\n",
    "print df_data.shape\n",
    "#Filtering out Zipcode = 0 and 99999. Dirty Data\n",
    "df_data = df_data[(df_data['zipcode'] != 0) & (df_data['zipcode'] != 99999)]\n",
    "print df_data.shape\n",
    "df_data.head()"
   ]
  },
  {
   "cell_type": "markdown",
   "metadata": {},
   "source": [
    "This is a dataset of individual income tax returns. Definition of Individual Accredited Individual.\n",
    "<br>a) natural person who has individual net worth, or joint net worth with the person's spouse, that exceeds 1 million at the time of the purchase, or has assets under management of $1 million or above, excluding the value of the individual's primary residence;\n",
    "<br>b) natural person with income exceeding 200,000 in each of the two most recent years or joint income with a spouse exceeding 300,000 for those years and a reasonable expectation of the same income level in the current year;\n",
    "\n",
    "<br>We don't have 2 consecutive years of data here. So let as assume that any natural person who has an Total Income  >= 200,000 in the income tax return for the year 2014 would make the same in the next year i.e. 2015. Using that logic, we can define the \n",
    "        <li>* Accredited investor as someone has an average Total Income of >= 200,000.\n",
    "        <li>* Number of returns (N1) as a proxy for the number of investors in the zipcode.\n",
    "\n",
    "<br>Some interesting variables from the SOI Data\n",
    "<br># STATE\n",
    "<br># Zipcode\n",
    "<br># A00100 - Adjusted Gross Income Amount\n",
    "<br># A02650 - Total income Amount\n",
    "<br># N1 - Number of returns\n",
    "<br># MARS1 - Number of single returns\n",
    "<br># MARS2 - Number of joint returns\n",
    "<br># N85300 - Number of returns with net investment income tax\n",
    "<br># A85300 - Net investment income tax amount\n",
    "<br># A18500 - Real estate taxes amount\n",
    "<br># N18300 - Number of returns with taxes paid\n",
    "<br># A18300 - Taxes paid amount\n",
    "<br># N00200 - Number of returns with salaries and wages\n",
    "<br># A00200 - Salaries and wages amount\n",
    "<br># A10300 - Total tax liability amount\n",
    "<br># A06500 - Income tax amount \n",
    "<br># N00600 - Number of returns with ordinary dividends \n",
    "<br># A00600 - Ordinary dividends amount\n",
    "<br># N00650 - Number of returns with qualified dividends\n",
    "<br># A00650 - Qualified dividends amount\n",
    "<br># N00900 - Number of returns with business or professional net income (less loss)\n",
    "<br># A00900 - Business or professional net income (less loss) amount\n",
    "<br># N01000 - Number of returns with net capital gain (less loss)\n",
    "<br># A01000 - Net capital gain (less loss) amount\n",
    "<br># N18500 - Number of returns with real estate taxes\n",
    "<br># A18500 - Real estate taxes amount"
   ]
  },
  {
   "cell_type": "code",
   "execution_count": 9,
   "metadata": {},
   "outputs": [
    {
     "name": "stdout",
     "output_type": "stream",
     "text": [
      "(166074, 129)\n"
     ]
    },
    {
     "data": {
      "text/html": [
       "<div>\n",
       "<style>\n",
       "    .dataframe thead tr:only-child th {\n",
       "        text-align: right;\n",
       "    }\n",
       "\n",
       "    .dataframe thead th {\n",
       "        text-align: left;\n",
       "    }\n",
       "\n",
       "    .dataframe tbody tr th {\n",
       "        vertical-align: top;\n",
       "    }\n",
       "</style>\n",
       "<table border=\"1\" class=\"dataframe\">\n",
       "  <thead>\n",
       "    <tr style=\"text-align: right;\">\n",
       "      <th></th>\n",
       "      <th>STATEFIPS</th>\n",
       "      <th>STATE</th>\n",
       "      <th>zipcode</th>\n",
       "      <th>agi_stub</th>\n",
       "      <th>N1</th>\n",
       "      <th>mars1</th>\n",
       "      <th>MARS2</th>\n",
       "      <th>MARS4</th>\n",
       "      <th>PREP</th>\n",
       "      <th>N2</th>\n",
       "      <th>...</th>\n",
       "      <th>N85530</th>\n",
       "      <th>A85530</th>\n",
       "      <th>N85300</th>\n",
       "      <th>A85300</th>\n",
       "      <th>N11901</th>\n",
       "      <th>A11901</th>\n",
       "      <th>N11902</th>\n",
       "      <th>A11902</th>\n",
       "      <th>avg_totalincome</th>\n",
       "      <th>accredited</th>\n",
       "    </tr>\n",
       "  </thead>\n",
       "  <tbody>\n",
       "    <tr>\n",
       "      <th>166675</th>\n",
       "      <td>56</td>\n",
       "      <td>WY</td>\n",
       "      <td>83414</td>\n",
       "      <td>2</td>\n",
       "      <td>40.0</td>\n",
       "      <td>20.0</td>\n",
       "      <td>0.0</td>\n",
       "      <td>0.0</td>\n",
       "      <td>20.0</td>\n",
       "      <td>90.0</td>\n",
       "      <td>...</td>\n",
       "      <td>0.0</td>\n",
       "      <td>0.0</td>\n",
       "      <td>0.0</td>\n",
       "      <td>0.0</td>\n",
       "      <td>30.0</td>\n",
       "      <td>42.0</td>\n",
       "      <td>30.0</td>\n",
       "      <td>97.0</td>\n",
       "      <td>39.125000</td>\n",
       "      <td>0</td>\n",
       "    </tr>\n",
       "    <tr>\n",
       "      <th>166676</th>\n",
       "      <td>56</td>\n",
       "      <td>WY</td>\n",
       "      <td>83414</td>\n",
       "      <td>3</td>\n",
       "      <td>20.0</td>\n",
       "      <td>0.0</td>\n",
       "      <td>30.0</td>\n",
       "      <td>0.0</td>\n",
       "      <td>40.0</td>\n",
       "      <td>50.0</td>\n",
       "      <td>...</td>\n",
       "      <td>0.0</td>\n",
       "      <td>0.0</td>\n",
       "      <td>0.0</td>\n",
       "      <td>0.0</td>\n",
       "      <td>0.0</td>\n",
       "      <td>0.0</td>\n",
       "      <td>30.0</td>\n",
       "      <td>110.0</td>\n",
       "      <td>64.350000</td>\n",
       "      <td>0</td>\n",
       "    </tr>\n",
       "    <tr>\n",
       "      <th>166677</th>\n",
       "      <td>56</td>\n",
       "      <td>WY</td>\n",
       "      <td>83414</td>\n",
       "      <td>4</td>\n",
       "      <td>30.0</td>\n",
       "      <td>20.0</td>\n",
       "      <td>0.0</td>\n",
       "      <td>0.0</td>\n",
       "      <td>0.0</td>\n",
       "      <td>70.0</td>\n",
       "      <td>...</td>\n",
       "      <td>0.0</td>\n",
       "      <td>0.0</td>\n",
       "      <td>0.0</td>\n",
       "      <td>0.0</td>\n",
       "      <td>0.0</td>\n",
       "      <td>0.0</td>\n",
       "      <td>0.0</td>\n",
       "      <td>0.0</td>\n",
       "      <td>73.366667</td>\n",
       "      <td>0</td>\n",
       "    </tr>\n",
       "    <tr>\n",
       "      <th>166678</th>\n",
       "      <td>56</td>\n",
       "      <td>WY</td>\n",
       "      <td>83414</td>\n",
       "      <td>5</td>\n",
       "      <td>30.0</td>\n",
       "      <td>0.0</td>\n",
       "      <td>20.0</td>\n",
       "      <td>0.0</td>\n",
       "      <td>30.0</td>\n",
       "      <td>70.0</td>\n",
       "      <td>...</td>\n",
       "      <td>0.0</td>\n",
       "      <td>0.0</td>\n",
       "      <td>0.0</td>\n",
       "      <td>0.0</td>\n",
       "      <td>30.0</td>\n",
       "      <td>722.0</td>\n",
       "      <td>20.0</td>\n",
       "      <td>149.0</td>\n",
       "      <td>161.833333</td>\n",
       "      <td>0</td>\n",
       "    </tr>\n",
       "    <tr>\n",
       "      <th>166679</th>\n",
       "      <td>56</td>\n",
       "      <td>WY</td>\n",
       "      <td>83414</td>\n",
       "      <td>6</td>\n",
       "      <td>30.0</td>\n",
       "      <td>0.0</td>\n",
       "      <td>30.0</td>\n",
       "      <td>0.0</td>\n",
       "      <td>30.0</td>\n",
       "      <td>70.0</td>\n",
       "      <td>...</td>\n",
       "      <td>0.0</td>\n",
       "      <td>0.0</td>\n",
       "      <td>20.0</td>\n",
       "      <td>201.0</td>\n",
       "      <td>0.0</td>\n",
       "      <td>0.0</td>\n",
       "      <td>0.0</td>\n",
       "      <td>0.0</td>\n",
       "      <td>554.700000</td>\n",
       "      <td>1</td>\n",
       "    </tr>\n",
       "  </tbody>\n",
       "</table>\n",
       "<p>5 rows × 129 columns</p>\n",
       "</div>"
      ],
      "text/plain": [
       "        STATEFIPS STATE  zipcode  agi_stub    N1  mars1  MARS2  MARS4  PREP  \\\n",
       "166675         56    WY    83414         2  40.0   20.0    0.0    0.0  20.0   \n",
       "166676         56    WY    83414         3  20.0    0.0   30.0    0.0  40.0   \n",
       "166677         56    WY    83414         4  30.0   20.0    0.0    0.0   0.0   \n",
       "166678         56    WY    83414         5  30.0    0.0   20.0    0.0  30.0   \n",
       "166679         56    WY    83414         6  30.0    0.0   30.0    0.0  30.0   \n",
       "\n",
       "          N2     ...      N85530  A85530  N85300  A85300  N11901  A11901  \\\n",
       "166675  90.0     ...         0.0     0.0     0.0     0.0    30.0    42.0   \n",
       "166676  50.0     ...         0.0     0.0     0.0     0.0     0.0     0.0   \n",
       "166677  70.0     ...         0.0     0.0     0.0     0.0     0.0     0.0   \n",
       "166678  70.0     ...         0.0     0.0     0.0     0.0    30.0   722.0   \n",
       "166679  70.0     ...         0.0     0.0    20.0   201.0     0.0     0.0   \n",
       "\n",
       "        N11902  A11902  avg_totalincome  accredited  \n",
       "166675    30.0    97.0        39.125000           0  \n",
       "166676    30.0   110.0        64.350000           0  \n",
       "166677     0.0     0.0        73.366667           0  \n",
       "166678    20.0   149.0       161.833333           0  \n",
       "166679     0.0     0.0       554.700000           1  \n",
       "\n",
       "[5 rows x 129 columns]"
      ]
     },
     "execution_count": 9,
     "metadata": {},
     "output_type": "execute_result"
    }
   ],
   "source": [
    "#Defining Average Total Income in Each Category.\n",
    "df_data['avg_totalincome'] = df_data['A02650']/df_data['N1']\n",
    "#Since the values are in 1000's.\n",
    "df_data['accredited'] = np.where(df_data['avg_totalincome'] > 200, 1, 0)\n",
    "#Added the two above columns as the last 2 columns in the existing SOI data.\n",
    "print df_data.shape\n",
    "df_data.tail()"
   ]
  },
  {
   "cell_type": "markdown",
   "metadata": {},
   "source": [
    "## a) The total number of accredited investors by state"
   ]
  },
  {
   "cell_type": "code",
   "execution_count": 10,
   "metadata": {},
   "outputs": [
    {
     "data": {
      "text/plain": [
       "<matplotlib.axes._subplots.AxesSubplot at 0x119891450>"
      ]
     },
     "execution_count": 10,
     "metadata": {},
     "output_type": "execute_result"
    },
    {
     "data": {
      "image/png": "[encoded data removed]",
      "text/plain": [
       "<matplotlib.figure.Figure at 0x1199a0950>"
      ]
     },
     "metadata": {},
     "output_type": "display_data"
    }
   ],
   "source": [
    "#1=Accredited and 0=UnAccredited\n",
    "gp_accredited_state = df_data.groupby(['accredited','STATE'])\n",
    "gp_accredited_state['N1'].sum()[1].sort_values(ascending=False).plot(kind='bar',color='r')"
   ]
  },
  {
   "cell_type": "raw",
   "metadata": {},
   "source": [
    "We can see from see that the top 5 states with the most expected accredited investors is California, Texas, New York, Florida and New Jersey. California, Texas and Florida being big states, this is not a surprising result."
   ]
  },
  {
   "cell_type": "code",
   "execution_count": 11,
   "metadata": {},
   "outputs": [
    {
     "name": "stdout",
     "output_type": "stream",
     "text": [
      "STATE\n",
      "CA    961580.0\n",
      "TX    512670.0\n",
      "NY    478090.0\n",
      "FL    331800.0\n",
      "NJ    298120.0\n",
      "Name: N1, dtype: float64\n"
     ]
    }
   ],
   "source": [
    "print gp_accredited_state['N1'].sum()[1].sort_values(ascending=False).head()"
   ]
  },
  {
   "cell_type": "markdown",
   "metadata": {},
   "source": [
    "## b) The median or average income level by state"
   ]
  },
  {
   "cell_type": "code",
   "execution_count": 12,
   "metadata": {},
   "outputs": [
    {
     "data": {
      "text/plain": [
       "<matplotlib.axes._subplots.AxesSubplot at 0x11a459fd0>"
      ]
     },
     "execution_count": 12,
     "metadata": {},
     "output_type": "execute_result"
    },
    {
     "data": {
      "image/png": "[encoded data removed]",
      "text/plain": [
       "<matplotlib.figure.Figure at 0x11a46ed90>"
      ]
     },
     "metadata": {},
     "output_type": "display_data"
    }
   ],
   "source": [
    "#b. The median or average income level by state\n",
    "gp_state = df_data.groupby(['STATE'])\n",
    "df_avgincome = gp_state['A02650','N1'].sum()\n",
    "#Since the base data set, the amounts are in 1000's, the numbers below are in \n",
    "df_avgincome['avg_income'] = df_avgincome['A02650']/df_avgincome['N1']\n",
    "df_avgincome['avg_income'].sort_values(ascending=False).plot(kind='bar',color='b')"
   ]
  },
  {
   "cell_type": "raw",
   "metadata": {},
   "source": [
    "There are more or less 3 distinct sets/ladders of average income across the States. The top 6 in this case, seem to be one distinct level, by itself."
   ]
  },
  {
   "cell_type": "code",
   "execution_count": 13,
   "metadata": {},
   "outputs": [
    {
     "data": {
      "text/plain": [
       "STATE\n",
       "CT    96.639772\n",
       "DC    91.976978\n",
       "MA    88.165639\n",
       "NJ    84.662807\n",
       "NY    81.862094\n",
       "CA    77.852213\n",
       "Name: avg_income, dtype: float64"
      ]
     },
     "execution_count": 13,
     "metadata": {},
     "output_type": "execute_result"
    }
   ],
   "source": [
    "df_avgincome['avg_income'].sort_values(ascending=False).head(6)"
   ]
  },
  {
   "cell_type": "markdown",
   "metadata": {},
   "source": [
    "## c) A ranking of the top 5 zip codes, on a state and on a nationwide level, based on estimated number of accredited investors"
   ]
  },
  {
   "cell_type": "code",
   "execution_count": 14,
   "metadata": {},
   "outputs": [
    {
     "data": {
      "text/plain": [
       "STATE  zipcode\n",
       "NY     10023      9410.0\n",
       "TX     77494      8450.0\n",
       "NY     10024      8400.0\n",
       "TX     77479      7830.0\n",
       "CA     95014      7800.0\n",
       "MD     20854      7740.0\n",
       "NY     10128      7350.0\n",
       "       10011      7140.0\n",
       "       10025      7090.0\n",
       "       10021      6810.0\n",
       "Name: N1, dtype: float64"
      ]
     },
     "execution_count": 14,
     "metadata": {},
     "output_type": "execute_result"
    }
   ],
   "source": [
    "#At National Level, the top 10 zipcodes with the highest number of accredited investors\n",
    "gp_accredited_zip = df_data[df_data['accredited']==1].groupby(['STATE','zipcode'])\n",
    "gp_accredited_zip['N1'].sum().sort_values(ascending=False).head(10)"
   ]
  },
  {
   "cell_type": "code",
   "execution_count": 15,
   "metadata": {},
   "outputs": [
    {
     "data": {
      "text/plain": [
       "STATE  STATE  zipcode\n",
       "AK     AK     99516      1960.0\n",
       "              99507      1070.0\n",
       "              99577       960.0\n",
       "              99515       870.0\n",
       "              99502       730.0\n",
       "AL     AL     35242      3690.0\n",
       "              35213      1680.0\n",
       "              35223      1600.0\n",
       "              35758      1590.0\n",
       "              35244      1460.0\n",
       "AR     AR     72712      2070.0\n",
       "              72223      1790.0\n",
       "              72758      1660.0\n",
       "              72212       940.0\n",
       "              72703       910.0\n",
       "AZ     AZ     85255      4880.0\n",
       "              85253      2920.0\n",
       "              85718      2470.0\n",
       "              85254      2360.0\n",
       "              85259      2210.0\n",
       "CA     CA     95014      7800.0\n",
       "              94583      6660.0\n",
       "              94539      6480.0\n",
       "              94087      6360.0\n",
       "              92130      6140.0\n",
       "CO     CO     80016      3010.0\n",
       "              80134      3000.0\n",
       "              80126      2870.0\n",
       "              80111      2860.0\n",
       "              80108      2560.0\n",
       "                          ...  \n",
       "VA     VA     22101      4930.0\n",
       "              22207      4750.0\n",
       "              20148      4290.0\n",
       "              20171      4010.0\n",
       "              20147      4000.0\n",
       "VT     VT     5403        620.0\n",
       "              5482        560.0\n",
       "              5401        490.0\n",
       "              5452        470.0\n",
       "              5495        400.0\n",
       "WA     WA     98052      5500.0\n",
       "              98033      3890.0\n",
       "              98006      3840.0\n",
       "              98004      3690.0\n",
       "              98040      3620.0\n",
       "WI     WI     53217      2610.0\n",
       "              53092      2020.0\n",
       "              53711      1800.0\n",
       "              53045      1650.0\n",
       "              53562      1460.0\n",
       "WV     WV     26508      1040.0\n",
       "              25314       870.0\n",
       "              26003       690.0\n",
       "              26330       500.0\n",
       "              26505       500.0\n",
       "WY     WY     82009       810.0\n",
       "              83001       650.0\n",
       "              82718       540.0\n",
       "              82609       530.0\n",
       "              82601       490.0\n",
       "Name: N1, Length: 255, dtype: float64"
      ]
     },
     "execution_count": 15,
     "metadata": {},
     "output_type": "execute_result"
    }
   ],
   "source": [
    "#At State Level, the top 5 zipcodes with the highest number of accredited investors. Below is the synopsis of the list.\n",
    "gp_accredited_state_zip = df_data[df_data['accredited']==1].groupby(['STATE','zipcode'])\n",
    "s_sum = gp_accredited_state_zip['N1'].sum()\n",
    "s_sum.groupby(level=0).nlargest(5)"
   ]
  },
  {
   "cell_type": "raw",
   "metadata": {},
   "source": [
    "Because this is huge list, let us set it up in an excel for distribution to the sales team. \n",
    "The CSV named 'State_Top5Zip_Accredited.csv' should have the complete list of zipcodes across all the states."
   ]
  },
  {
   "cell_type": "code",
   "execution_count": 16,
   "metadata": {
    "collapsed": true
   },
   "outputs": [],
   "source": [
    "df_state_top5zip = s_sum.groupby(level=0).nlargest(5).to_frame()\n",
    "df_state_top5zip.index = df_state_top5zip.index.droplevel(0)\n",
    "df_state_top5zip.rename(columns={'N1':'Investor#'}, inplace=True)\n",
    "df_state_top5zip.to_excel('./State_Top5Zip_Accredited.xlsx')"
   ]
  },
  {
   "cell_type": "markdown",
   "metadata": {},
   "source": [
    "## d) An estimate of the number of accredited investors that make investments"
   ]
  },
  {
   "cell_type": "markdown",
   "metadata": {},
   "source": [
    "If accredited investors have Net Investment Income tax, then it is fair to assume that they make investments. The variable A85300 gives us the Net investment income tax amount."
   ]
  },
  {
   "cell_type": "code",
   "execution_count": 17,
   "metadata": {},
   "outputs": [
    {
     "name": "stdout",
     "output_type": "stream",
     "text": [
      "Estimate of Accredited Investors with Investments: 5894070.0\n",
      "Total Tax Filers: 142448550.0\n",
      "Addressable Market as % of Total Tax Payers: 4.13768339516\n"
     ]
    }
   ],
   "source": [
    "# A85300 - Net investment income tax amount.\n",
    "print 'Estimate of Accredited Investors with Investments:',df_data[(df_data['accredited'] ==1) & (df_data['A85300'] > 0)]['N1'].sum()\n",
    "print 'Total Tax Filers:',df_data['N1'].sum()\n",
    "print 'Addressable Market as % of Total Tax Payers:',(df_data[(df_data['accredited'] ==1) & (df_data['A85300'] > 0)]['N1'].sum()/df_data['N1'].sum()) *100"
   ]
  },
  {
   "cell_type": "markdown",
   "metadata": {},
   "source": [
    "## e) The effective tax rate (i.e. total amount of federal taxes paid compared to the adjusted gross income) by zip code"
   ]
  },
  {
   "cell_type": "markdown",
   "metadata": {},
   "source": [
    "The variable A06500 gives us the Income Tax Amount, and A00100 gives us the Adjusted Gross Income Amount. We can derive the effective tax rate across the zipcodes using them."
   ]
  },
  {
   "cell_type": "code",
   "execution_count": 18,
   "metadata": {},
   "outputs": [
    {
     "name": "stdout",
     "output_type": "stream",
     "text": [
      "Avg. Income Tax Rate across the US: 0.103350899552\n"
     ]
    },
    {
     "data": {
      "text/html": [
       "<div>\n",
       "<style>\n",
       "    .dataframe thead tr:only-child th {\n",
       "        text-align: right;\n",
       "    }\n",
       "\n",
       "    .dataframe thead th {\n",
       "        text-align: left;\n",
       "    }\n",
       "\n",
       "    .dataframe tbody tr th {\n",
       "        vertical-align: top;\n",
       "    }\n",
       "</style>\n",
       "<table border=\"1\" class=\"dataframe\">\n",
       "  <thead>\n",
       "    <tr style=\"text-align: right;\">\n",
       "      <th></th>\n",
       "      <th></th>\n",
       "      <th>A06500</th>\n",
       "      <th>A00100</th>\n",
       "      <th>effective_taxrate</th>\n",
       "    </tr>\n",
       "    <tr>\n",
       "      <th>STATE</th>\n",
       "      <th>zipcode</th>\n",
       "      <th></th>\n",
       "      <th></th>\n",
       "      <th></th>\n",
       "    </tr>\n",
       "  </thead>\n",
       "  <tbody>\n",
       "    <tr>\n",
       "      <th rowspan=\"5\" valign=\"top\">AK</th>\n",
       "      <th>99501</th>\n",
       "      <td>97464.0</td>\n",
       "      <td>605729.0</td>\n",
       "      <td>0.160904</td>\n",
       "    </tr>\n",
       "    <tr>\n",
       "      <th>99502</th>\n",
       "      <td>161172.0</td>\n",
       "      <td>1005942.0</td>\n",
       "      <td>0.160220</td>\n",
       "    </tr>\n",
       "    <tr>\n",
       "      <th>99503</th>\n",
       "      <td>66436.0</td>\n",
       "      <td>492124.0</td>\n",
       "      <td>0.134998</td>\n",
       "    </tr>\n",
       "    <tr>\n",
       "      <th>99504</th>\n",
       "      <td>133886.0</td>\n",
       "      <td>1158913.0</td>\n",
       "      <td>0.115527</td>\n",
       "    </tr>\n",
       "    <tr>\n",
       "      <th>99505</th>\n",
       "      <td>4685.0</td>\n",
       "      <td>89153.0</td>\n",
       "      <td>0.052550</td>\n",
       "    </tr>\n",
       "  </tbody>\n",
       "</table>\n",
       "</div>"
      ],
      "text/plain": [
       "                 A06500     A00100  effective_taxrate\n",
       "STATE zipcode                                        \n",
       "AK    99501     97464.0   605729.0           0.160904\n",
       "      99502    161172.0  1005942.0           0.160220\n",
       "      99503     66436.0   492124.0           0.134998\n",
       "      99504    133886.0  1158913.0           0.115527\n",
       "      99505      4685.0    89153.0           0.052550"
      ]
     },
     "execution_count": 18,
     "metadata": {},
     "output_type": "execute_result"
    }
   ],
   "source": [
    "# Effective Tax Rate Across State and Zip Codes.\n",
    "# A06500 - Income tax amount \n",
    "# A00100 - Adjusted Gross Income Amount\n",
    "df_effective_taxrate = df_data.groupby(['STATE','zipcode'])['A06500','A00100'].sum()\n",
    "df_effective_taxrate['effective_taxrate'] = df_effective_taxrate['A06500']/df_effective_taxrate['A00100']\n",
    "print 'Avg. Income Tax Rate across the US:',df_effective_taxrate['effective_taxrate'].mean()\n",
    "df_effective_taxrate.head()"
   ]
  },
  {
   "cell_type": "code",
   "execution_count": 19,
   "metadata": {},
   "outputs": [
    {
     "data": {
      "text/plain": [
       "<matplotlib.axes._subplots.AxesSubplot at 0x11c4fe910>"
      ]
     },
     "execution_count": 19,
     "metadata": {},
     "output_type": "execute_result"
    },
    {
     "data": {
      "image/png": "[encoded data removed]",
      "text/plain": [
       "<matplotlib.figure.Figure at 0x11c5b4cd0>"
      ]
     },
     "metadata": {},
     "output_type": "display_data"
    }
   ],
   "source": [
    "# Effective Tax Rate Across States\n",
    "df_effective_taxrate_state = df_data.groupby(['STATE'])['A06500','A00100'].sum()\n",
    "df_effective_taxrate_state['effective_taxrate'] = df_effective_taxrate_state['A06500']/df_effective_taxrate_state['A00100']\n",
    "df_effective_taxrate_state['effective_taxrate'].sort_values(ascending=False).plot(kind='bar', color='g')"
   ]
  },
  {
   "cell_type": "raw",
   "metadata": {},
   "source": [
    "We can see that Connecticut and DC lead in terms of effective tax rates. The top 10 states with effective tax rates are as follows."
   ]
  },
  {
   "cell_type": "code",
   "execution_count": 20,
   "metadata": {},
   "outputs": [
    {
     "data": {
      "text/plain": [
       "STATE\n",
       "DC    0.167712\n",
       "CT    0.167478\n",
       "MA    0.159176\n",
       "NY    0.159073\n",
       "NJ    0.152469\n",
       "ND    0.145952\n",
       "CA    0.144166\n",
       "TX    0.144155\n",
       "FL    0.143397\n",
       "IL    0.142249\n",
       "Name: effective_taxrate, dtype: float64"
      ]
     },
     "execution_count": 20,
     "metadata": {},
     "output_type": "execute_result"
    }
   ],
   "source": [
    "df_effective_taxrate_state['effective_taxrate'].sort_values(ascending=False).head(10)"
   ]
  },
  {
   "cell_type": "markdown",
   "metadata": {},
   "source": [
    "## Justification of conclusions by providing measures of statistical significance (i.e. a T-Stat or similar metric)."
   ]
  },
  {
   "cell_type": "markdown",
   "metadata": {},
   "source": [
    "In order to justify our conclusion, let us try to model a simple relationship between the number of accredited only investors to their States, the Ordinary/ Dividends Amount on the return, and the number of returns with Business or Professional Incomes.\n",
    "\n",
    "<br>The hypothesis being that investors who have dividends on their tax returns and generate professional business income / loss on the side, when combined along with their state of residence can establish the number of accredited investors.\n",
    "\n",
    "<br>We will purposefully leave out all the variables regarding AGI / Income since accredited investors are already a function of those."
   ]
  },
  {
   "cell_type": "markdown",
   "metadata": {},
   "source": [
    "My dependent variable is the number of accredited investors. My independent variables are.\n",
    "<br>STATE\n",
    "<br>A00600 - Ordinary dividends amount\n",
    "<br>A00900 - Business or professional net income (less loss) amount"
   ]
  },
  {
   "cell_type": "code",
   "execution_count": 21,
   "metadata": {},
   "outputs": [
    {
     "data": {
      "text/html": [
       "<div>\n",
       "<style>\n",
       "    .dataframe thead tr:only-child th {\n",
       "        text-align: right;\n",
       "    }\n",
       "\n",
       "    .dataframe thead th {\n",
       "        text-align: left;\n",
       "    }\n",
       "\n",
       "    .dataframe tbody tr th {\n",
       "        vertical-align: top;\n",
       "    }\n",
       "</style>\n",
       "<table border=\"1\" class=\"dataframe\">\n",
       "  <thead>\n",
       "    <tr style=\"text-align: right;\">\n",
       "      <th></th>\n",
       "      <th>STATEFIPS</th>\n",
       "      <th>STATE</th>\n",
       "      <th>zipcode</th>\n",
       "      <th>agi_stub</th>\n",
       "      <th>N1</th>\n",
       "      <th>mars1</th>\n",
       "      <th>MARS2</th>\n",
       "      <th>MARS4</th>\n",
       "      <th>PREP</th>\n",
       "      <th>N2</th>\n",
       "      <th>...</th>\n",
       "      <th>N85530</th>\n",
       "      <th>A85530</th>\n",
       "      <th>N85300</th>\n",
       "      <th>A85300</th>\n",
       "      <th>N11901</th>\n",
       "      <th>A11901</th>\n",
       "      <th>N11902</th>\n",
       "      <th>A11902</th>\n",
       "      <th>avg_totalincome</th>\n",
       "      <th>accredited</th>\n",
       "    </tr>\n",
       "  </thead>\n",
       "  <tbody>\n",
       "    <tr>\n",
       "      <th>11</th>\n",
       "      <td>1</td>\n",
       "      <td>AL</td>\n",
       "      <td>35004</td>\n",
       "      <td>6</td>\n",
       "      <td>50.0</td>\n",
       "      <td>0.0</td>\n",
       "      <td>50.0</td>\n",
       "      <td>0.0</td>\n",
       "      <td>40.0</td>\n",
       "      <td>130.0</td>\n",
       "      <td>...</td>\n",
       "      <td>0.0</td>\n",
       "      <td>0.0</td>\n",
       "      <td>20.0</td>\n",
       "      <td>45.0</td>\n",
       "      <td>30.0</td>\n",
       "      <td>503.0</td>\n",
       "      <td>0.0</td>\n",
       "      <td>0.0</td>\n",
       "      <td>322.440000</td>\n",
       "      <td>1</td>\n",
       "    </tr>\n",
       "    <tr>\n",
       "      <th>29</th>\n",
       "      <td>1</td>\n",
       "      <td>AL</td>\n",
       "      <td>35007</td>\n",
       "      <td>6</td>\n",
       "      <td>220.0</td>\n",
       "      <td>0.0</td>\n",
       "      <td>200.0</td>\n",
       "      <td>0.0</td>\n",
       "      <td>150.0</td>\n",
       "      <td>660.0</td>\n",
       "      <td>...</td>\n",
       "      <td>60.0</td>\n",
       "      <td>61.0</td>\n",
       "      <td>90.0</td>\n",
       "      <td>109.0</td>\n",
       "      <td>150.0</td>\n",
       "      <td>3276.0</td>\n",
       "      <td>50.0</td>\n",
       "      <td>333.0</td>\n",
       "      <td>331.504545</td>\n",
       "      <td>1</td>\n",
       "    </tr>\n",
       "    <tr>\n",
       "      <th>35</th>\n",
       "      <td>1</td>\n",
       "      <td>AL</td>\n",
       "      <td>35010</td>\n",
       "      <td>6</td>\n",
       "      <td>150.0</td>\n",
       "      <td>0.0</td>\n",
       "      <td>140.0</td>\n",
       "      <td>0.0</td>\n",
       "      <td>130.0</td>\n",
       "      <td>390.0</td>\n",
       "      <td>...</td>\n",
       "      <td>50.0</td>\n",
       "      <td>53.0</td>\n",
       "      <td>80.0</td>\n",
       "      <td>282.0</td>\n",
       "      <td>80.0</td>\n",
       "      <td>1511.0</td>\n",
       "      <td>50.0</td>\n",
       "      <td>762.0</td>\n",
       "      <td>439.566667</td>\n",
       "      <td>1</td>\n",
       "    </tr>\n",
       "    <tr>\n",
       "      <th>47</th>\n",
       "      <td>1</td>\n",
       "      <td>AL</td>\n",
       "      <td>35016</td>\n",
       "      <td>6</td>\n",
       "      <td>100.0</td>\n",
       "      <td>0.0</td>\n",
       "      <td>90.0</td>\n",
       "      <td>0.0</td>\n",
       "      <td>80.0</td>\n",
       "      <td>300.0</td>\n",
       "      <td>...</td>\n",
       "      <td>60.0</td>\n",
       "      <td>60.0</td>\n",
       "      <td>40.0</td>\n",
       "      <td>59.0</td>\n",
       "      <td>50.0</td>\n",
       "      <td>918.0</td>\n",
       "      <td>40.0</td>\n",
       "      <td>316.0</td>\n",
       "      <td>321.570000</td>\n",
       "      <td>1</td>\n",
       "    </tr>\n",
       "    <tr>\n",
       "      <th>65</th>\n",
       "      <td>1</td>\n",
       "      <td>AL</td>\n",
       "      <td>35022</td>\n",
       "      <td>6</td>\n",
       "      <td>180.0</td>\n",
       "      <td>0.0</td>\n",
       "      <td>150.0</td>\n",
       "      <td>0.0</td>\n",
       "      <td>130.0</td>\n",
       "      <td>460.0</td>\n",
       "      <td>...</td>\n",
       "      <td>60.0</td>\n",
       "      <td>38.0</td>\n",
       "      <td>70.0</td>\n",
       "      <td>64.0</td>\n",
       "      <td>100.0</td>\n",
       "      <td>1436.0</td>\n",
       "      <td>60.0</td>\n",
       "      <td>371.0</td>\n",
       "      <td>290.794444</td>\n",
       "      <td>1</td>\n",
       "    </tr>\n",
       "  </tbody>\n",
       "</table>\n",
       "<p>5 rows × 129 columns</p>\n",
       "</div>"
      ],
      "text/plain": [
       "    STATEFIPS STATE  zipcode  agi_stub     N1  mars1  MARS2  MARS4   PREP  \\\n",
       "11          1    AL    35004         6   50.0    0.0   50.0    0.0   40.0   \n",
       "29          1    AL    35007         6  220.0    0.0  200.0    0.0  150.0   \n",
       "35          1    AL    35010         6  150.0    0.0  140.0    0.0  130.0   \n",
       "47          1    AL    35016         6  100.0    0.0   90.0    0.0   80.0   \n",
       "65          1    AL    35022         6  180.0    0.0  150.0    0.0  130.0   \n",
       "\n",
       "       N2     ...      N85530  A85530  N85300  A85300  N11901  A11901  N11902  \\\n",
       "11  130.0     ...         0.0     0.0    20.0    45.0    30.0   503.0     0.0   \n",
       "29  660.0     ...        60.0    61.0    90.0   109.0   150.0  3276.0    50.0   \n",
       "35  390.0     ...        50.0    53.0    80.0   282.0    80.0  1511.0    50.0   \n",
       "47  300.0     ...        60.0    60.0    40.0    59.0    50.0   918.0    40.0   \n",
       "65  460.0     ...        60.0    38.0    70.0    64.0   100.0  1436.0    60.0   \n",
       "\n",
       "    A11902  avg_totalincome  accredited  \n",
       "11     0.0       322.440000           1  \n",
       "29   333.0       331.504545           1  \n",
       "35   762.0       439.566667           1  \n",
       "47   316.0       321.570000           1  \n",
       "65   371.0       290.794444           1  \n",
       "\n",
       "[5 rows x 129 columns]"
      ]
     },
     "execution_count": 21,
     "metadata": {},
     "output_type": "execute_result"
    }
   ],
   "source": [
    "#First let us filter for only accredited investors.\n",
    "df_accredited = df_data[df_data['accredited'] == 1]\n",
    "df_accredited.head()"
   ]
  },
  {
   "cell_type": "code",
   "execution_count": 22,
   "metadata": {},
   "outputs": [
    {
     "name": "stdout",
     "output_type": "stream",
     "text": [
      "                            OLS Regression Results                            \n",
      "==============================================================================\n",
      "Dep. Variable:                     N1   R-squared:                       0.799\n",
      "Model:                            OLS   Adj. R-squared:                  0.798\n",
      "Method:                 Least Squares   F-statistic:                     1253.\n",
      "Date:                Mon, 17 Jul 2017   Prob (F-statistic):               0.00\n",
      "Time:                        12:32:59   Log-Likelihood:            -1.1700e+05\n",
      "No. Observations:               16468   AIC:                         2.341e+05\n",
      "Df Residuals:                   16415   BIC:                         2.345e+05\n",
      "Df Model:                          52                                         \n",
      "Covariance Type:            nonrobust                                         \n",
      "==================================================================================\n",
      "                     coef    std err          t      P>|t|      [0.025      0.975]\n",
      "----------------------------------------------------------------------------------\n",
      "Intercept         55.7203     49.198      1.133      0.257     -40.713     152.154\n",
      "C(STATE)[T.AL]    10.9320     52.150      0.210      0.834     -91.288     113.152\n",
      "C(STATE)[T.AR]    42.2941     54.230      0.780      0.435     -64.003     148.592\n",
      "C(STATE)[T.AZ]   123.9252     53.122      2.333      0.020      19.800     228.050\n",
      "C(STATE)[T.CA]   172.7179     49.895      3.462      0.001      74.919     270.517\n",
      "C(STATE)[T.CO]   150.6024     52.259      2.882      0.004      48.170     253.035\n",
      "C(STATE)[T.CT]    10.1951     52.717      0.193      0.847     -93.135     113.525\n",
      "C(STATE)[T.DC]   -52.2702     79.937     -0.654      0.513    -208.956     104.416\n",
      "C(STATE)[T.DE]   131.5204     65.360      2.012      0.044       3.407     259.634\n",
      "C(STATE)[T.FL]   115.5227     50.287      2.297      0.022      16.954     214.091\n",
      "C(STATE)[T.GA]   130.7467     51.349      2.546      0.011      30.098     231.395\n",
      "C(STATE)[T.HI]  -105.5973     64.500     -1.637      0.102    -232.025      20.830\n",
      "C(STATE)[T.IA]    16.0634     51.852      0.310      0.757     -85.573     117.699\n",
      "C(STATE)[T.ID]    24.4366     57.437      0.425      0.671     -88.146     137.020\n",
      "C(STATE)[T.IL]   148.1634     50.553      2.931      0.003      49.074     247.253\n",
      "C(STATE)[T.IN]    47.4485     51.537      0.921      0.357     -53.570     148.467\n",
      "C(STATE)[T.KS]    11.2363     52.622      0.214      0.831     -91.909     114.381\n",
      "C(STATE)[T.KY]    17.1926     53.198      0.323      0.747     -87.081     121.467\n",
      "C(STATE)[T.LA]   -33.3851     52.106     -0.641      0.522    -135.518      68.747\n",
      "C(STATE)[T.MA]    84.8775     51.208      1.658      0.097     -15.496     185.251\n",
      "C(STATE)[T.MD]   122.6716     51.777      2.369      0.018      21.183     224.160\n",
      "C(STATE)[T.ME]    -3.6150     54.884     -0.066      0.947    -111.194     103.964\n",
      "C(STATE)[T.MI]    52.2505     50.773      1.029      0.303     -47.270     151.771\n",
      "C(STATE)[T.MN]    98.0932     51.228      1.915      0.056      -2.320     198.507\n",
      "C(STATE)[T.MO]    46.5898     52.018      0.896      0.370     -55.372     148.551\n",
      "C(STATE)[T.MS]   -29.5200     53.855     -0.548      0.584    -135.082      76.042\n",
      "C(STATE)[T.MT]     8.9718     57.678      0.156      0.876    -104.084     122.027\n",
      "C(STATE)[T.NC]    98.2073     51.070      1.923      0.054      -1.894     198.309\n",
      "C(STATE)[T.ND]    14.4036     55.318      0.260      0.795     -94.026     122.833\n",
      "C(STATE)[T.NE]    28.3099     53.242      0.532      0.595     -76.049     132.669\n",
      "C(STATE)[T.NH]   -10.0336     54.199     -0.185      0.853    -116.269      96.202\n",
      "C(STATE)[T.NJ]   123.2332     50.924      2.420      0.016      23.416     223.050\n",
      "C(STATE)[T.NM]    37.6155     59.110      0.636      0.525     -78.247     153.478\n",
      "C(STATE)[T.NV]    54.4607     57.282      0.951      0.342     -57.818     166.739\n",
      "C(STATE)[T.NY]    27.6492     50.138      0.551      0.581     -70.626     125.925\n",
      "C(STATE)[T.OH]    34.8473     50.643      0.688      0.491     -64.419     134.113\n",
      "C(STATE)[T.OK]    10.9250     52.111      0.210      0.834     -91.219     113.068\n",
      "C(STATE)[T.OR]    62.9463     53.288      1.181      0.238     -41.503     167.396\n",
      "C(STATE)[T.PA]    40.1221     50.287      0.798      0.425     -58.445     138.689\n",
      "C(STATE)[T.RI]    46.2597     62.407      0.741      0.459     -76.065     168.585\n",
      "C(STATE)[T.SC]    45.6541     53.056      0.860      0.390     -58.342     149.650\n",
      "C(STATE)[T.SD]     4.5482     55.586      0.082      0.935    -104.406     113.502\n",
      "C(STATE)[T.TN]  -148.6314     51.880     -2.865      0.004    -250.322     -46.941\n",
      "C(STATE)[T.TX]    26.7094     49.912      0.535      0.593     -71.124     124.543\n",
      "C(STATE)[T.UT]   130.6167     56.419      2.315      0.021      20.030     241.203\n",
      "C(STATE)[T.VA]   162.3434     51.110      3.176      0.001      62.162     262.524\n",
      "C(STATE)[T.VT]    -3.3699     57.764     -0.058      0.953    -116.593     109.853\n",
      "C(STATE)[T.WA]   144.2705     51.643      2.794      0.005      43.045     245.496\n",
      "C(STATE)[T.WI]    51.3173     51.255      1.001      0.317     -49.148     151.782\n",
      "C(STATE)[T.WV]   -52.5257     55.580     -0.945      0.345    -161.468      56.416\n",
      "C(STATE)[T.WY]    -5.1722     60.987     -0.085      0.932    -124.714     114.370\n",
      "A00600            -0.0008   8.58e-05     -8.772      0.000      -0.001      -0.001\n",
      "A00900             0.0407      0.000    190.048      0.000       0.040       0.041\n",
      "==============================================================================\n",
      "Omnibus:                    10735.720   Durbin-Watson:                   1.455\n",
      "Prob(Omnibus):                  0.000   Jarque-Bera (JB):          1521541.325\n",
      "Skew:                           2.187   Prob(JB):                         0.00\n",
      "Kurtosis:                      49.886   Cond. No.                     5.86e+06\n",
      "==============================================================================\n",
      "\n",
      "Warnings:\n",
      "[1] Standard Errors assume that the covariance matrix of the errors is correctly specified.\n",
      "[2] The condition number is large, 5.86e+06. This might indicate that there are\n",
      "strong multicollinearity or other numerical problems.\n"
     ]
    }
   ],
   "source": [
    "mod = smf.ols(formula='N1 ~ C(STATE) + A00600 + A00900', data=df_accredited)\n",
    "res = mod.fit()\n",
    "print(res.summary())"
   ]
  },
  {
   "cell_type": "raw",
   "metadata": {},
   "source": [
    "The linear model has an adjusted R-Squared of ~ 80%. That is a decent fit to our population data set. Let us try to find out the states that are significant in this relationship. Significance alpha threshold being set @ 5%. So any variable below 0.05 would be significant to this model. The states that are significant are listed below."
   ]
  },
  {
   "cell_type": "code",
   "execution_count": 23,
   "metadata": {},
   "outputs": [
    {
     "data": {
      "text/plain": [
       "A00900            0.000000e+00\n",
       "A00600            1.920460e-18\n",
       "C(STATE)[T.CA]    5.382455e-04\n",
       "C(STATE)[T.VA]    1.494126e-03\n",
       "C(STATE)[T.IL]    3.384933e-03\n",
       "C(STATE)[T.CO]    3.958469e-03\n",
       "C(STATE)[T.TN]    4.176646e-03\n",
       "C(STATE)[T.WA]    5.218327e-03\n",
       "C(STATE)[T.GA]    1.089748e-02\n",
       "C(STATE)[T.NJ]    1.553423e-02\n",
       "C(STATE)[T.MD]    1.783683e-02\n",
       "C(STATE)[T.AZ]    1.966836e-02\n",
       "C(STATE)[T.UT]    2.061789e-02\n",
       "C(STATE)[T.FL]    2.161644e-02\n",
       "C(STATE)[T.DE]    4.421118e-02\n",
       "dtype: float64"
      ]
     },
     "execution_count": 23,
     "metadata": {},
     "output_type": "execute_result"
    }
   ],
   "source": [
    "res.pvalues[res.pvalues < 0.05].sort_values(ascending=True)"
   ]
  },
  {
   "cell_type": "markdown",
   "metadata": {},
   "source": [
    "## Sales Team Recommendation"
   ]
  },
  {
   "cell_type": "raw",
   "metadata": {},
   "source": [
    "California, Illinois, New Jersey and Florida show up as siginificant in the model. Initially, we had found the expected number of accredited investors in the state. The model we built also tells us the significance of 4 out of the top 6 states.\n",
    "\n",
    "So we are reasonably assured on the validity of what states to go after. Taking into account the magnitude of expected investors in the states as well as the siginificance of them, the strategic recommendation would be first focus on the top 6 states and their relevant top zip codes (State_Top5Zip_Accredited.xlsx) for sales leads."
   ]
  },
  {
   "cell_type": "code",
   "execution_count": 24,
   "metadata": {},
   "outputs": [
    {
     "data": {
      "text/plain": [
       "<matplotlib.axes._subplots.AxesSubplot at 0x11a5765d0>"
      ]
     },
     "execution_count": 24,
     "metadata": {},
     "output_type": "execute_result"
    },
    {
     "data": {
      "image/png": "[encoded data removed]",
      "text/plain": [
       "<matplotlib.figure.Figure at 0x11a565f10>"
      ]
     },
     "metadata": {},
     "output_type": "display_data"
    }
   ],
   "source": [
    "gp_accredited_state['N1'].sum()[1].sort_values(ascending=False).plot(kind='bar',color='r')"
   ]
  },
  {
   "cell_type": "markdown",
   "metadata": {},
   "source": [
    "## Bonus Question: What statistical metric would you use to accurately identify the relationship between different data series?"
   ]
  },
  {
   "cell_type": "raw",
   "metadata": {},
   "source": [
    "The metric I would be interested in is Correlation. For example, if I were to find the correlation of the top 30 variable in our zipcode dataset with each other, I would plot a heatmap of correlations as below."
   ]
  },
  {
   "cell_type": "code",
   "execution_count": 26,
   "metadata": {},
   "outputs": [
    {
     "data": {
      "text/plain": [
       "<matplotlib.axes._subplots.AxesSubplot at 0x11bbb97d0>"
      ]
     },
     "execution_count": 26,
     "metadata": {},
     "output_type": "execute_result"
    },
    {
     "data": {
      "image/png": "[encoded data removed]",
      "text/plain": [
       "<matplotlib.figure.Figure at 0x11bbd63d0>"
      ]
     },
     "metadata": {},
     "output_type": "display_data"
    }
   ],
   "source": [
    "df_25 = df_data.ix[:,4:30]\n",
    "#df_25 = df_data\n",
    "corr = df_25.corr()\n",
    "sns.heatmap(corr, \n",
    "            xticklabels=corr.columns.values,\n",
    "            yticklabels=corr.columns.values)"
   ]
  },
  {
   "cell_type": "raw",
   "metadata": {},
   "source": [
    "For example, what this tells us is that a variable such as TCE (number of Tax counselling for the elderly prepared returns) has absolutely zero relationship, in terms of positive or negative trends, against another variable such as A00300 (Taxable interest amount)."
   ]
  },
  {
   "cell_type": "code",
   "execution_count": null,
   "metadata": {
    "collapsed": true
   },
   "outputs": [],
   "source": []
  }
 ],
 "metadata": {
  "kernelspec": {
   "display_name": "Python [conda root]",
   "language": "python",
   "name": "conda-root-py"
  },
  "language_info": {
   "codemirror_mode": {
    "name": "ipython",
    "version": 2
   },
   "file_extension": ".py",
   "mimetype": "text/x-python",
   "name": "python",
   "nbconvert_exporter": "python",
   "pygments_lexer": "ipython2",
   "version": "2.7.13"
  }
 },
 "nbformat": 4,
 "nbformat_minor": 2
}
